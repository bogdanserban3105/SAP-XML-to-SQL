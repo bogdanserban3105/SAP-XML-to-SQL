{
 "cells": [
  {
   "cell_type": "code",
   "execution_count": 0,
   "metadata": {
    "application/vnd.databricks.v1+cell": {
     "cellMetadata": {
      "byteLimit": 2048000,
      "rowLimit": 10000
     },
     "inputWidgets": {},
     "nuid": "7819c4f2-438b-4768-b357-fc468291f738",
     "showTitle": false,
     "tableResultSettingsMap": {},
     "title": ""
    }
   },
   "outputs": [],
   "source": [
    "#from openai import AzureOpenAI\n",
    "from datetime import datetime\n",
    "import time\n",
    "import shutil\n",
    "import re\n",
    "from collections import OrderedDict\n",
    "import sys\n",
    "import time\n",
    "import os\n",
    "from pathlib import Path\n",
    "from pyspark.sql import Row\n"
   ]
  },
  {
   "cell_type": "code",
   "execution_count": 0,
   "metadata": {
    "application/vnd.databricks.v1+cell": {
     "cellMetadata": {
      "byteLimit": 2048000,
      "rowLimit": 10000
     },
     "inputWidgets": {},
     "nuid": "7fedbf34-51ca-4c8b-851e-54768f1aff6b",
     "showTitle": false,
     "tableResultSettingsMap": {},
     "title": ""
    }
   },
   "outputs": [],
   "source": [
    "\n",
    "files = os.listdir(\"queries/\")\n",
    "subdir = \"queries/\"\n",
    "SQL_FILE = subdir + files[0]\n",
    "intab = files[0].lower().replace('.sql','')\n",
    "with open(SQL_FILE, \"r\", encoding=\"utf-8\") as files:\n",
    "    my_sql = files.read()\n",
    "prompt = my_sql\n",
    "RowList = [Row(col) for col in prompt.replace('\"/BIC/','').replace('\"','').split(';') if col.replace('\\n', '').replace(\" \", \"\") != '' and ('ENDMETHOD') not in col]; \n",
    "RowList = spark.createDataFrame(RowList).withColumnRenamed(\"_1\", \"table_statement\")\n",
    "from pyspark.sql.functions import split, col, explode\n",
    "RowList = RowList.withColumn(\"table_statement\", explode(split(col(\"table_statement\"), \"---\")))\n",
    "ase = prompt.replace('\\nOUTTAB', '').split(' ')\n",
    "ase = set([x.replace(':',\"\").replace('\\n','') for x in ase if x.startswith(':IT')])\n",
    "RowList = RowList.filter((col(\"table_statement\").rlike('|'.join(ase))) & (~col(\"table_statement\").contains(\"OUTTAB\")))\n",
    "\n",
    "RowList = RowList.filter(~col(\"table_statement\").contains(\"ENDMETHOD\"))\n",
    "start_index = [RowList.collect()[x][0].replace('.\\nIT','.\\n IT').replace('\\nIT','\\n IT').replace(\"\\n   IT_\", '\\n IT_').find(\"\\n IT_\")+ 2 for x in range(len(RowList.collect()))]\n",
    "RowList = [RowList.collect()[x][0].replace('.\\nIT','.\\n IT').replace('\\nIT','\\n IT').replace(\"\\n   IT_\", '\\n IT_')[start_index[x]:].replace('\\nIT','IT').replace('\\n IT','IT').replace('\\n  IT','IT').lower() for x in range(len(RowList.collect()))]\n",
    "RowList = ['create or replace temp view '+ x.replace('=\\n', 'as (\\n').replace(':','').replace('intab', intab) + '\\n)' for x in RowList]\n",
    "mapping_dict = {}\n",
    "for x in RowList:\n",
    "    start_index = x.find(\" as (\\n\") + len(\" as (\\n\")\n",
    "    x = x[start_index:]\n",
    "    if 'z2' in x or 'z9' in x:\n",
    "        z2_count = x.count('z2') + x.count('z9')\n",
    "        if 'join' not in x:\n",
    "            if 'union' in x:\n",
    "                x_list = x.split('union')\n",
    "                for y in x_list:\n",
    "                    if 'z2' in y or 'z9' in y:\n",
    "                        start_index = y.find(\"select \") + len(\"select \")\n",
    "                        end_index = y.find(\"from\")\n",
    "                        column = y[start_index:end_index].replace('  ', '')\n",
    "                        column_list = [item.split('--')[0].strip().split(' as ')[0].split(',')[0].split('(')[-1].split(')')[0].replace('=','').replace('>','').replace('<','') for item in column.split('\\n') if item.split('--')[0].strip() != '']\n",
    "                        from_name = y[end_index + len('from '):]\n",
    "                        end_index_from = from_name.find('\\n')\n",
    "                        from_name = from_name[:end_index_from]\n",
    "                        mapping_dict[from_name] = mapping_dict.get(from_name, set()) | set(column_list)\n",
    "            else:\n",
    "                start_index = x.find(\"select \") + len(\"select \")\n",
    "                end_index = x.find(\"from\")\n",
    "                column = x[start_index:end_index].replace('  ', '')\n",
    "                column_list = [item.replace('=','').replace('>','').replace('<','') for item in column.split('\\n') if item != '']\n",
    "                from_name = x[end_index + len('from '):]\n",
    "                end_index_from = from_name.find('\\n')\n",
    "                from_name = from_name[:end_index_from]\n",
    "                mapping_dict[from_name] = mapping_dict.get(from_name, set()) | set(column_list)\n",
    "        elif 'join' in x:\n",
    "            if x.count('join') == 1 and 'union' not in x:\n",
    "                start_index = x.find(\"select \") + len(\"select \")\n",
    "                end_index = x.find(\"from\")\n",
    "                column = x[start_index:end_index].replace('  ', '')\n",
    "                column_list = [item for item in column.split('\\n') if item != '']\n",
    "                from_name = x[end_index + len('from '):]\n",
    "                sources_name = [z for z in from_name.replace('  ','').split('\\n') if 'z2' in z or 'z9' in z]\n",
    "                for x in sources_name:\n",
    "                    source_name_letter[x.split(' ')[-1]] = x.split(' ')[-2]     \n",
    "                on_name = [z for z in from_name.replace('  ','').split('\\n') if 'on' in z or 'and' in z]\n",
    "                source_letter = [d.split('as ')[1] if 'as' in d else d.split(' ')[-1] for d in sources_name ]\n",
    "                column_used = []\n",
    "                for p in source_letter:\n",
    "                    column_used.extend([f\"{p}.\" + u.split('.')[1].split(',')[0].split(' ')[0] for u in column_list if f\"{p}.\" in u])\n",
    "                    column_used.extend([f\"{p}.\" + f.split(f\"{p}.\")[1].split(',')[0].split(' ')[0] for f in on_name if f\"{p}.\" in f])\n",
    "                end_index_from = from_name.find('\\n')\n",
    "                if 'as' in sources_name:\n",
    "                    from_name = sources_name[0].split(' join ')[1].split(' as ')[0]\n",
    "                else:\n",
    "                    from_name = sources_name[0].split(' join ')[1].split(' ')[0]\n",
    "                \n",
    "                mapping_dict[from_name] = mapping_dict.get(from_name, set()) | set(column_used)\n",
    "                for k, v in mapping_dict.items():  \n",
    "                    for elem in list(mapping_dict[k]):\n",
    "                        if '.' in elem:  \n",
    "                            print(elem)  # Print the element containing a dot  \n",
    "                            # Check if the key does not match the corresponding value in source_name_letter  \n",
    "                            if k != source_name_letter.get(elem.split('.')[0], None):  \n",
    "                                mapping_dict[k].discard(elem)  # Discard elem if the condition is true  \n",
    "                            else:  \n",
    "                                mapping_dict[k].discard(elem)  # Discard elem again (this seems redundant)  \n",
    "                                # Split the element by dot and add the second part to the set  \n",
    "                                second_part = elem.split('.')[1]  \n",
    "                                mapping_dict[k] = mapping_dict.get(k, set()).union({second_part})  \n",
    "            else:\n",
    "                if 'union' in x:\n",
    "                    x_list = x.split('union')\n",
    "                    for y in x_list:\n",
    "                        if 'z2' in y or 'z9' in y:\n",
    "                            start_index = y.find(\"select \") + len(\"select \")\n",
    "                            end_index = y.find(\"from\")\n",
    "                            column = y[start_index:end_index].replace('  ', '')\n",
    "                            column_list = [item.split('--')[0].strip().split(' as ')[0].split(',')[0].split('(')[-1].split(')')[0] for item in column.split('\\n') if item.split('--')[0].strip() != '']\n",
    "                            from_name = y[end_index + len('from '):]\n",
    "                            if 'join' in from_name:\n",
    "                                sources_name = [z for z in from_name.replace('  ','').split('\\n') if 'z2' in z or 'z9' in z]\n",
    "                                on_name = [z for z in from_name.split('\\n') if 'on' in z or 'and' in z]\n",
    "                                source_letter = [d.split('as ')[1] if 'as' in d else d.split(' ')[-1] for d in sources_name ]\n",
    "                                source_name_letter = dict()   \n",
    "                                for x in sources_name:\n",
    "                                    source_name_letter[x.split(' ')[-1]] = x.split(' ')[-2]                  \n",
    "                                column_used = []\n",
    "                                for p in source_letter:\n",
    "                                    column_used.extend([f\"{p}.\" + u.split('.')[1].split(',')[0].split(' ')[0] for u in column_list if f\"{p}.\" in u])\n",
    "                                    column_used.extend([f\"{p}.\" + f.split(f\"{p}.\")[1].split(',')[0].split(' ')[0] for f in on_name if f\"{p}.\" in f])\n",
    "                                end_index_from = from_name.find('\\n')\n",
    "                                \n",
    "                                if 'as' in sources_name:\n",
    "                                    from_name_join = sources_name[0].split(' join ')[1].split(' as ')[0]\n",
    "                                elif len(sources_name) == 2:\n",
    "                                    from_name_join = sources_name[1].split(' join ')[1].split(' ')[0]\n",
    "                                else:\n",
    "                                    from_name_join = sources_name[0].split(' ')[0]\n",
    "\n",
    "                                mapping_dict[from_name_join] = mapping_dict.get(from_name_join, set()) | set(column_used)\n",
    "                                for k, v in mapping_dict.items():  \n",
    "                                    for elem in list(mapping_dict[k]):\n",
    "                                        if '.' in elem: \n",
    "                                            # Check if the key does not match the corresponding value in source_name_letter  \n",
    "                                            if k != source_name_letter.get(elem.split('.')[0], None):  \n",
    "                                                mapping_dict[k].discard(elem)  # Discard elem if the condition is true  \n",
    "                                            else:  \n",
    "                                                mapping_dict[k].discard(elem)  # Discard elem again (this seems redundant)  \n",
    "                                                # Split the element by dot and add the second part to the set  \n",
    "                                                second_part = elem.split('.')[1]  \n",
    "                                                mapping_dict[k] = mapping_dict.get(k, set()).union({second_part})  \n",
    "                                    \n",
    "                            end_index_from = from_name.find('\\n')\n",
    "                            from_name = from_name[:end_index_from]\n",
    "                            source_letter = [d.split('as ')[1] if 'as' in d else d.split(' ')[-1] for d in sources_name ]\n",
    "                            column_used = []\n",
    "                            for p in source_letter:\n",
    "                                column_used.extend([u.split('.')[1].split(',')[0].split(' ')[0] for u in column_list if f\"{p}.\" in u])\n",
    "                                column_used.extend([f.split(f\"{p}.\")[1].split(',')[0].split(' ')[0] for f in on_name if f\"{p}.\" in f])\n",
    "                            mapping_dict[from_name.split(' ')[0]] = mapping_dict.get(from_name.split(' ')[0], set()) | set(column_used)\n",
    "\n",
    "        \n",
    "                        \n",
    "from pyspark.sql.functions import explode, array_contains\n",
    "mapping_df = spark.createDataFrame([(k, list(v)) for k, v in mapping_dict.items()], [\"table_name\", \"columns\"])\n",
    "display(mapping_df)\n",
    "\n",
    "            \n"
   ]
  }
 ],
 "metadata": {
  "application/vnd.databricks.v1+notebook": {
   "computePreferences": null,
   "dashboards": [
    {
     "elements": [],
     "globalVars": {},
     "guid": "",
     "layoutOption": {
      "grid": true,
      "stack": true
     },
     "nuid": "bc875105-953b-4a0f-89ae-a91cb4012006",
     "origId": 6413791871776915,
     "title": "Untitled",
     "version": "DashboardViewV1",
     "width": 1024
    }
   ],
   "environmentMetadata": {
    "base_environment": "",
    "environment_version": "1"
   },
   "inputWidgetPreferences": {
    "autoRunOnWidgetChange": "auto-run-selected-command"
   },
   "language": "python",
   "notebookMetadata": {
    "pythonIndentUnit": 4,
    "widgetLayout": [
     {
      "breakBefore": false,
      "name": "User",
      "width": 170
     },
     {
      "breakBefore": false,
      "name": "Base_choise",
      "width": 170
     },
     {
      "breakBefore": false,
      "name": "file_type",
      "width": 170
     },
     {
      "breakBefore": false,
      "name": "want_clean_code",
      "width": 170
     },
     {
      "breakBefore": false,
      "name": "files",
      "width": 310
     },
     {
      "breakBefore": false,
      "name": "model_choice",
      "width": 170
     }
    ]
   },
   "notebookName": "expert_rutine_mapping_sql",
   "widgets": {
    "model_choice": {
     "currentValue": "o1-mini",
     "nuid": "0a8064ef-e38f-4a31-9921-515fbeba07a7",
     "typedWidgetInfo": {
      "autoCreated": false,
      "defaultValue": "o1",
      "label": "Choose model type",
      "name": "model_choice",
      "options": {
       "widgetDisplayType": "Dropdown",
       "choices": [
        "o1",
        "o1-mini",
        "o1-preview",
        "gpt-4o"
       ],
       "fixedDomain": true,
       "multiselect": false
      },
      "parameterDataType": "String"
     },
     "widgetInfo": {
      "widgetType": "dropdown",
      "defaultValue": "o1",
      "label": "Choose model type",
      "name": "model_choice",
      "options": {
       "widgetType": "dropdown",
       "autoCreated": null,
       "choices": [
        "o1",
        "o1-mini",
        "o1-preview",
        "gpt-4o"
       ]
      }
     }
    }
   }
  },
  "language_info": {
   "name": "python"
  }
 },
 "nbformat": 4,
 "nbformat_minor": 0
}
