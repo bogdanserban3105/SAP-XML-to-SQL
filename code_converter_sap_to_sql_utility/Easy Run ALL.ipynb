{
 "cells": [
  {
   "cell_type": "markdown",
   "metadata": {
    "application/vnd.databricks.v1+cell": {
     "cellMetadata": {
      "byteLimit": 2048000,
      "rowLimit": 10000
     },
     "inputWidgets": {},
     "nuid": "3b3b0036-d88e-4226-b31c-0ecae566653c",
     "showTitle": false,
     "tableResultSettingsMap": {},
     "title": ""
    }
   },
   "source": [
    "Be sure you are connected to your own cluster"
   ]
  },
  {
   "cell_type": "markdown",
   "metadata": {
    "application/vnd.databricks.v1+cell": {
     "cellMetadata": {
      "byteLimit": 2048000,
      "rowLimit": 10000
     },
     "inputWidgets": {},
     "nuid": "80eae44a-347d-486c-b342-9756608297e6",
     "showTitle": false,
     "tableResultSettingsMap": {},
     "title": ""
    }
   },
   "source": [
    "Be sure to add XML to xmls folder. Be sure you use XML-s for a entire calculation view, not only for one table"
   ]
  },
  {
   "cell_type": "code",
   "execution_count": 0,
   "metadata": {
    "application/vnd.databricks.v1+cell": {
     "cellMetadata": {
      "byteLimit": 2048000,
      "rowLimit": 10000
     },
     "inputWidgets": {},
     "nuid": "d6d3842f-d59d-4e87-8ae1-6be242538990",
     "showTitle": true,
     "tableResultSettingsMap": {},
     "title": "Code convertor from XML to SQL"
    }
   },
   "outputs": [],
   "source": [
    "%run ./hana_xml_to_sql_utility"
   ]
  },
  {
   "cell_type": "code",
   "execution_count": 0,
   "metadata": {
    "application/vnd.databricks.v1+cell": {
     "cellMetadata": {
      "byteLimit": 2048000,
      "rowLimit": 10000
     },
     "collapsed": true,
     "inputWidgets": {},
     "nuid": "670f4ae4-f715-4fc7-8257-d3a7a683bf8a",
     "showTitle": true,
     "tableResultSettingsMap": {},
     "title": "Code corrector with OpenAI from SAP SQL logic to DBX SQL logic"
    }
   },
   "outputs": [],
   "source": [
    "%run ./ChatGPT"
   ]
  },
  {
   "cell_type": "markdown",
   "metadata": {
    "application/vnd.databricks.v1+cell": {
     "cellMetadata": {
      "byteLimit": 2048000,
      "rowLimit": 10000
     },
     "inputWidgets": {},
     "nuid": "c5e55f27-c910-40fc-b61b-4c3f25fe885b",
     "showTitle": false,
     "tableResultSettingsMap": {},
     "title": ""
    }
   },
   "source": [
    "Find the ChaT GPT output in GPT_OutPut folder"
   ]
  },
  {
   "cell_type": "markdown",
   "metadata": {
    "application/vnd.databricks.v1+cell": {
     "cellMetadata": {
      "byteLimit": 2048000,
      "rowLimit": 10000
     },
     "inputWidgets": {},
     "nuid": "0ac7d86a-74c4-45be-97e2-f0f97eb4e2b5",
     "showTitle": false,
     "tableResultSettingsMap": {},
     "title": ""
    }
   },
   "source": [
    "If the \"Not Modified\" tag appears, it means that either the text was too long or the GPT tokens were used up too quickly.\n",
    "\n",
    "Here are three options to handle this:\n",
    "\n",
    "- Manually create a .sql file containing only the \"not_modified\" part and place it in the \"queries\" folder. Then, run the CHATGPT notebook. \n",
    "\n",
    "- Run again the cell 5 of this notebook\n",
    "\n",
    "- If you choose not to modify it manually, you can use it as it is, only processed by hana_xml_to_sql_utility tool to create sql from xml.\n"
   ]
  }
 ],
 "metadata": {
  "application/vnd.databricks.v1+notebook": {
   "computePreferences": null,
   "dashboards": [],
   "environmentMetadata": {
    "base_environment": "",
    "environment_version": "2"
   },
   "inputWidgetPreferences": null,
   "language": "python",
   "notebookMetadata": {
    "pythonIndentUnit": 4
   },
   "notebookName": "Easy Run ALL",
   "widgets": {}
  },
  "language_info": {
   "name": "python"
  }
 },
 "nbformat": 4,
 "nbformat_minor": 0
}
