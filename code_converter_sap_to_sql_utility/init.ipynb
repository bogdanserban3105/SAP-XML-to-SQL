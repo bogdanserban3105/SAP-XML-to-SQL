{
 "cells": [
  {
   "cell_type": "code",
   "execution_count": 0,
   "metadata": {
    "application/vnd.databricks.v1+cell": {
     "cellMetadata": {
      "byteLimit": 2048000,
      "rowLimit": 10000
     },
     "inputWidgets": {},
     "nuid": "b78c4dd9-9877-457d-bf8e-62102cc59355",
     "showTitle": false,
     "tableResultSettingsMap": {},
     "title": ""
    }
   },
   "outputs": [],
   "source": [
    "import os\n",
    "from openai import AzureOpenAI\n",
    "    \n",
    "\n",
    "\n",
    "\n",
    "client = AzureOpenAI(\n",
    "    api_version=\"2024-08-01-preview\",\n",
    "    \n",
    "    azure_endpoint=\"PLACEHOLDER\",\n",
    "    api_key=\"PLACEHOLDER\",\n",
    ")"
   ]
  },
  {
   "cell_type": "code",
   "execution_count": 0,
   "metadata": {
    "application/vnd.databricks.v1+cell": {
     "cellMetadata": {
      "byteLimit": 2048000,
      "rowLimit": 10000
     },
     "inputWidgets": {},
     "nuid": "a70a62ff-4507-43e9-b85a-0e0ce58163d5",
     "showTitle": false,
     "tableResultSettingsMap": {},
     "title": ""
    }
   },
   "outputs": [],
   "source": [
    "client_v2 = AzureOpenAI(\n",
    "    api_version=\"2024-12-01-preview\",\n",
    "    azure_endpoint=\"PLACEHOLDER\",\n",
    "    api_key=\"PLACEHOLDER\"\n",
    ")"
   ]
  },
  {
   "cell_type": "code",
   "execution_count": 0,
   "metadata": {
    "application/vnd.databricks.v1+cell": {
     "cellMetadata": {
      "byteLimit": 2048000,
      "rowLimit": 10000
     },
     "inputWidgets": {},
     "nuid": "477d0bed-7dc5-4936-8515-1bcaf1a27261",
     "showTitle": false,
     "tableResultSettingsMap": {},
     "title": ""
    }
   },
   "outputs": [],
   "source": [
    "def callmodel4o(deployment_name, prompt):\n",
    "\n",
    "  start_phrase = prompt\n",
    "  response = client.chat.completions.create(\n",
    "      model=deployment_name,  # This refers to the deployed model name (gpt-4o)\n",
    "      messages=[\n",
    "          {\"role\": \"system\", \"content\": \"You are a code converting specialist between SAP Code and Databricks code.\"},\n",
    "          {\"role\": \"user\", \"content\": start_phrase}\n",
    "      ],\n",
    "      max_tokens=10000,  # Set the maximum length of the response\n",
    "      temperature=0.2,  # Lower temperature for more deterministic responses\n",
    "      top_p=0.8,        # More standard responses\n",
    "      frequency_penalty=0.1, # Allow code repetition\n",
    "      presence_penalty=0.0 # Less varied content\n",
    "  )\n",
    "\n",
    "\n",
    "\n",
    "  #print(response)\n",
    "  print('---------------------------------------------------')\n",
    "  print(response.choices[0].message.content)\n",
    "  return response.choices[0].message.content"
   ]
  },
  {
   "cell_type": "code",
   "execution_count": 0,
   "metadata": {
    "application/vnd.databricks.v1+cell": {
     "cellMetadata": {
      "byteLimit": 2048000,
      "rowLimit": 10000
     },
     "inputWidgets": {},
     "nuid": "0e6040a7-beef-4672-98b0-51f01120fb3c",
     "showTitle": false,
     "tableResultSettingsMap": {},
     "title": ""
    }
   },
   "outputs": [],
   "source": [
    "def callmodelo1(deployment_name, prompt):\n",
    "\n",
    "  start_phrase = prompt\n",
    "  response = client_v2.chat.completions.create(\n",
    "      model=deployment_name,  # This refers to the deployed model name (gpt-4o)\n",
    "      messages=[\n",
    "        {\n",
    "            \"role\": \"user\",\n",
    "            \"content\": start_phrase\n",
    "        }\n",
    "    ]\n",
    "  )\n",
    "\n",
    "\n",
    "\n",
    "  #print(response)\n",
    "  print('---------------------------------------------------')\n",
    "  print(response.choices[0].message.content)\n",
    "  return response.choices[0].message.content\n"
   ]
  },
  {
   "cell_type": "code",
   "execution_count": 0,
   "metadata": {
    "application/vnd.databricks.v1+cell": {
     "cellMetadata": {
      "byteLimit": 2048000,
      "rowLimit": 10000
     },
     "inputWidgets": {},
     "nuid": "8f2ed2e5-da85-4330-a348-04c9f5fad783",
     "showTitle": false,
     "tableResultSettingsMap": {},
     "title": ""
    }
   },
   "outputs": [],
   "source": [
    "def call_model_o1(deployment_name, prompt):\n",
    "    # Define the start phrase as the user input (XML configuration and prompt)\n",
    "    start_phrase = prompt  # The prompt you want to send to the model\n",
    "\n",
    "    # Define the system message that provides the context\n",
    "    system_message = {\n",
    "        \"role\": \"system\",\n",
    "        \"content\": \"You are an expert in converting SAP logic, represented in XML configuration, into Databricks SQL. \" +\n",
    "                   \"Your task is to parse the logic in the XML and generate the corresponding Databricks SQL queries.\"\n",
    "    }\n",
    "\n",
    "    # Make the API call to get the response from the model\n",
    "    response = client_v2.chat.completions.create(\n",
    "        model=deployment_name,  # The name of your deployed model (e.g., gpt-4-deployment)\n",
    "        messages=[\n",
    "            system_message,  # Add the system message to set the context\n",
    "            {\n",
    "                \"role\": \"user\",  # User is sending the message\n",
    "                \"content\": start_phrase  # The actual prompt content (XML configuration)\n",
    "            }\n",
    "        ]\n",
    "    )\n",
    "    \n",
    "    # Print the response for debugging purposes\n",
    "    print('---------------------------------------------------')\n",
    "    \n",
    "    # Correctly access the content using dot notation\n",
    "    print(response.choices[0].message.content)  # Use .content to access the message content\n",
    "    \n",
    "    return response.choices[0].message.content  # Return the model's response"
   ]
  },
  {
   "cell_type": "code",
   "execution_count": 0,
   "metadata": {
    "application/vnd.databricks.v1+cell": {
     "cellMetadata": {
      "byteLimit": 2048000,
      "rowLimit": 10000
     },
     "inputWidgets": {},
     "nuid": "611a8798-367a-417d-b0c1-3dc16949f314",
     "showTitle": false,
     "tableResultSettingsMap": {},
     "title": ""
    }
   },
   "outputs": [],
   "source": [
    "\n",
    "if 'is_target_notebook' not in globals():\n",
    "    is_target_notebook = False\n",
    "\n",
    "# Only create widgets if we're in the target notebook\n",
    "if is_target_notebook:\n",
    "    # Create a text widget for manually inserting the directory name\n",
    "    dbutils.widgets.text(\"data_flow_insertion\", \"\", \"Enter Directory Name (e.g., DF1)\")\n",
    "\n",
    "    # Create a dropdown widget for selecting from a list of DF1, DF2, ..., DF48\n",
    "    df_list = [f\"DF{i}\" for i in range(1, 49)]  # List of DF1, DF2, ..., DF48\n",
    "    dbutils.widgets.dropdown(\"data_flow_selection\", df_list[0], df_list, \"Select Directory\")\n",
    "else:\n",
    "    print(\"No widgets created in the source notebook\")"
   ]
  },
  {
   "cell_type": "code",
   "execution_count": 0,
   "metadata": {
    "application/vnd.databricks.v1+cell": {
     "cellMetadata": {
      "byteLimit": 2048000,
      "rowLimit": 10000
     },
     "inputWidgets": {},
     "nuid": "efd5ad1b-18c3-4309-adfe-9e3da5cd63ad",
     "showTitle": false,
     "tableResultSettingsMap": {},
     "title": ""
    }
   },
   "outputs": [],
   "source": [
    "def read_file_content(file_path):\n",
    "    \"\"\"Read the content of a file using Spark's higher-level API (spark.read.text).\"\"\"\n",
    "    try:\n",
    "        # Read the file content using spark.read.text\n",
    "        df = spark.read.text(file_path)\n",
    "        file_content = df.rdd.map(lambda r: r[0]).collect()\n",
    "        return file_content\n",
    "    except Exception as e:\n",
    "        log_message = f\"Error reading file: {file_path}\\nException: {e}\"\n",
    "        log_messages.append(f\"**Read Error**:\\n{log_message}\\n\") # Store log message with section heading\n",
    "        print(log_message) # Print to console\n",
    "        return None\n",
    "\n",
    "def log_to_blob(message, action):\n",
    "    \"\"\"Store log messages and print them to the console.\"\"\"\n",
    "    try:\n",
    "        # Print to the console\n",
    "        print(message)\n",
    "        # Store log message in the list\n",
    "        log_messages.append(f\"**{action}**:\\n{message}\\n\")\n",
    "    except Exception as e:\n",
    "        print(f\"Error logging: {e}\")"
   ]
  }
 ],
 "metadata": {
  "application/vnd.databricks.v1+notebook": {
   "computePreferences": null,
   "dashboards": [],
   "environmentMetadata": {
    "base_environment": "",
    "environment_version": "1"
   },
   "inputWidgetPreferences": null,
   "language": "python",
   "notebookMetadata": {
    "pythonIndentUnit": 4
   },
   "notebookName": "init",
   "widgets": {}
  },
  "language_info": {
   "name": "python"
  }
 },
 "nbformat": 4,
 "nbformat_minor": 0
}
