{
 "cells": [
  {
   "cell_type": "code",
   "execution_count": 0,
   "metadata": {
    "application/vnd.databricks.v1+cell": {
     "cellMetadata": {
      "byteLimit": 2048000,
      "rowLimit": 10000
     },
     "inputWidgets": {},
     "nuid": "fd20fc50-d45e-4a1e-ae3d-bc578a6d28de",
     "showTitle": false,
     "tableResultSettingsMap": {},
     "title": ""
    }
   },
   "outputs": [],
   "source": [
    "\n",
    "# List of environments\n",
    "environments = [\"tsttst\"]\n",
    "# List of table names with placeholders\n",
    "table_names = ['lpdbwlppns01{ENV}.lego_mgr_bronze.l07tjrn','lpdbwlppns01{ENV}.lego_mgr_bronze.l07tgst','lpdbwlppns01{ENV}.lego_mgr_bronze.l07tbdr','lpdbwlppns01{ENV}.lego_mgr_bronze.l07tokb','lpdbwlppns01{ENV}.lego_mgr_bronze.l07tokp','lpdbwlppns01{ENV}.lego_b2s.post_pst_pht_mtp','lpdbwlppns01{ENV}.lego_b2s.post_psa_pha_mtp','lpdbwlppns01{ENV}.lego_b2s.post_dlv_dhv_mtp','lpdbwlppns01{ENV}.lego_mgr_bronze.l07tgtp','lpdbwlppns01{ENV}.lego_b2s.regeling_gtr_gth','lpdbwlppns01{ENV}.lego_b2s.regeling_rga_rha_mtg','lpdbwlppns01{ENV}.lego_mgr_bronze.l07trod','lpdbwlppns01{ENV}.lego_mgr_bronze.l07tmtp','lpdbwlppns01{ENV}.lego_mgr_bronze.l07trrl','lpdbwlppns01{ENV}.lego_mgr_bronze.l07trgs','lpdbwlppns01{ENV}.ora_bronze.l03toct','lpdbwlppns01{ENV}.ora_bronze.l03toro','lpdbwlppns01{ENV}.ora_bronze.l03tocp']\n",
    "\n",
    "# List to store tables with permission errors\n",
    "permission_errors = []\n",
    "\n",
    "def check_table_data(env, table_name):\n",
    "    full_table_name = table_name.replace(\"{ENV}\", env)\n",
    "    try:\n",
    "        df = spark.sql(f\"SELECT * FROM {full_table_name} LIMIT 10\")\n",
    "        if df.count() == 0:\n",
    "            print(f\"No data in table {full_table_name}\")\n",
    "        else:\n",
    "            print(f\"Data in table {full_table_name}:\")\n",
    "    except Exception as e:\n",
    "        print(f\"Permission error for table {full_table_name}: {e}\")\n",
    "        permission_errors.append(full_table_name)\n",
    "\n",
    "# Iterate through the list of environments and tables\n",
    "for env in environments:\n",
    "    for table in table_names:\n",
    "        check_table_data(env, table)\n",
    "\n",
    "# Print tables with permission errors\n",
    "if permission_errors:\n",
    "    print(\"Tables with permission errors:\")\n",
    "    for table in permission_errors:\n",
    "        print(table)\n"
   ]
  }
 ],
 "metadata": {
  "application/vnd.databricks.v1+notebook": {
   "computePreferences": null,
   "dashboards": [],
   "environmentMetadata": {
    "base_environment": "",
    "environment_version": "2"
   },
   "inputWidgetPreferences": null,
   "language": "python",
   "notebookMetadata": {
    "pythonIndentUnit": 4
   },
   "notebookName": "table status",
   "widgets": {}
  },
  "language_info": {
   "name": "python"
  }
 },
 "nbformat": 4,
 "nbformat_minor": 0
}
