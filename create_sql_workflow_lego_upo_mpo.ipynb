{
 "cells": [
  {
   "cell_type": "code",
   "execution_count": 0,
   "metadata": {
    "application/vnd.databricks.v1+cell": {
     "cellMetadata": {},
     "inputWidgets": {},
     "nuid": "970d3aaa-bd72-4ae8-8c1d-e048a0d0f149",
     "showTitle": false,
     "tableResultSettingsMap": {},
     "title": ""
    }
   },
   "outputs": [],
   "source": [
    "%sql\n",
    "\n",
    "CREATE TABLE IF NOT EXISTS lpdbwlpbdt01devdev.meta_process.workflow_lego_upo_mpo (\n",
    "\n",
    "\n",
    "  RUN_ID INT NOT NULL,\n",
    "  DOMAIN STRING NOT NULL,\n",
    "  PARAMS_JSON STRING NOT NULL,\n",
    "  COMMENT STRING,\n",
    "  INSERTED_AT TIMESTAMP\n",
    "\n",
    "\n",
    "\n",
    ")\n",
    "\n",
    "COMMENT 'Snapshot of parameters from run_param for each workflow run';"
   ]
  }
 ],
 "metadata": {
  "application/vnd.databricks.v1+notebook": {
   "computePreferences": null,
   "dashboards": [],
   "environmentMetadata": {
    "base_environment": "",
    "environment_version": "2"
   },
   "inputWidgetPreferences": null,
   "language": "python",
   "notebookMetadata": {
    "pythonIndentUnit": 4
   },
   "notebookName": "create_sql_workflow_lego_upo_mpo",
   "widgets": {}
  },
  "language_info": {
   "name": "python"
  }
 },
 "nbformat": 4,
 "nbformat_minor": 0
}
