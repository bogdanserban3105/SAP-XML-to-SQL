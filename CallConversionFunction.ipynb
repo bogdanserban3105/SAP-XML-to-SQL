{
 "cells": [
  {
   "cell_type": "code",
   "execution_count": 0,
   "metadata": {
    "application/vnd.databricks.v1+cell": {
     "cellMetadata": {},
     "inputWidgets": {},
     "nuid": "790ba93f-ef6f-4674-9a7a-db2eb5444cc8",
     "showTitle": false,
     "tableResultSettingsMap": {},
     "title": ""
    }
   },
   "outputs": [],
   "source": [
    "%run ./init"
   ]
  },
  {
   "cell_type": "code",
   "execution_count": 0,
   "metadata": {
    "application/vnd.databricks.v1+cell": {
     "cellMetadata": {
      "byteLimit": 2048000,
      "rowLimit": 10000
     },
     "inputWidgets": {},
     "nuid": "b4438516-5c54-471d-82f4-1a658d344a32",
     "showTitle": false,
     "tableResultSettingsMap": {},
     "title": ""
    }
   },
   "outputs": [],
   "source": [
    "# Create a text widget for manually inserting the directory name\n",
    "dbutils.widgets.text(\"data_flow_insertion\", \"\", \"Enter Directory Name (e.g., DF1)\")\n",
    "data_flow_sel = dbutils.widgets.get(\"data_flow_insertion\")\n",
    "data_flow_sel = data_flow_sel.upper()\n",
    "print(data_flow_sel)"
   ]
  },
  {
   "cell_type": "code",
   "execution_count": 0,
   "metadata": {
    "application/vnd.databricks.v1+cell": {
     "cellMetadata": {
      "byteLimit": 2048000,
      "rowLimit": 10000
     },
     "inputWidgets": {},
     "nuid": "2f8e0705-b1c6-4a3c-b72d-3ce595170532",
     "showTitle": false,
     "tableResultSettingsMap": {},
     "title": ""
    }
   },
   "outputs": [],
   "source": [
    "\n",
    "# Query the configuration table to get distinct source systems\n",
    "getSourceInfo = f\"\"\"\n",
    "    SELECT DISTINCT SourceSystem FROM codeconverter_config.DataFlowTableInfo\n",
    "    WHERE DataFlow = '{data_flow_sel}'\n",
    "\"\"\"\n",
    "source_systems = spark.sql(getSourceInfo).collect()\n",
    "\n",
    "# Extract the source system names\n",
    "source_systems_list = [row['SourceSystem'] for row in source_systems]\n",
    "\n",
    "# Determine the flag based on the source systems found\n",
    "if len(source_systems_list) == 1:\n",
    "    source_system_flag = source_systems_list[0]  # Either 'Hana' or 'BW'\n",
    "elif len(source_systems_list) == 2:\n",
    "    source_system_flag = \"HANA/BW\"\n",
    "else:\n",
    "    source_system_flag = \"None\"  # In case there's no valid source system\n",
    "\n",
    "\n",
    "# Set a very large timeout to avoid timing out\n",
    "timeout_seconds = 9999999  # A very large value (effectively no timeout)\n",
    "\n",
    "# Based on the flag, trigger the corresponding notebook(s) without arguments or timeout\n",
    "if source_system_flag == \"HANA\":\n",
    "    print(\"Only HANA files found, triggering HANA parsing notebook.\")\n",
    "    dbutils.notebook.run(\"./CodeConvertFromXMLtoSQL\", timeout_seconds=timeout_seconds)\n",
    "\n",
    "elif source_system_flag == \"BW\":\n",
    "    print(\"Only BW files found, triggering BW parsing notebook.\")\n",
    "    dbutils.notebook.run(\"./CodeConvertFromHTMLtoSQL\", timeout_seconds=timeout_seconds)\n",
    "\n",
    "elif source_system_flag == \"HANA/BW\":\n",
    "    print(\"Both HANA and BW files found, triggering both parsing notebooks.\")\n",
    "    \n",
    "    #Trigger Hana parsing notebook\n",
    "    dbutils.notebook.run(\"./CodeConvertFromXMLtoSQL\", timeout_seconds=timeout_seconds)\n",
    "    \n",
    "    #Trigger BW parsing notebook\n",
    "    dbutils.notebook.run(\"./CodeConvertFromHTMLtoSQL\", timeout_seconds=timeout_seconds)\n",
    "\n",
    "else:\n",
    "    print(\"No valid source system found. Aborting.\")"
   ]
  }
 ],
 "metadata": {
  "application/vnd.databricks.v1+notebook": {
   "computePreferences": null,
   "dashboards": [],
   "environmentMetadata": {
    "base_environment": "",
    "environment_version": "2"
   },
   "inputWidgetPreferences": null,
   "language": "python",
   "notebookMetadata": {
    "pythonIndentUnit": 4
   },
   "notebookName": "CallConversionFunction",
   "widgets": {
    "data_flow_insertion": {
     "currentValue": "DF34",
     "nuid": "e4b83330-5778-4b6e-a5ec-1496190e13b8",
     "typedWidgetInfo": {
      "autoCreated": false,
      "defaultValue": "",
      "label": "Enter Directory Name (e.g., DF1)",
      "name": "data_flow_insertion",
      "options": {
       "widgetDisplayType": "Text",
       "validationRegex": null
      },
      "parameterDataType": "String"
     },
     "widgetInfo": {
      "widgetType": "text",
      "defaultValue": "",
      "label": "Enter Directory Name (e.g., DF1)",
      "name": "data_flow_insertion",
      "options": {
       "widgetType": "text",
       "autoCreated": null,
       "validationRegex": null
      }
     }
    }
   }
  },
  "language_info": {
   "name": "python"
  }
 },
 "nbformat": 4,
 "nbformat_minor": 0
}
